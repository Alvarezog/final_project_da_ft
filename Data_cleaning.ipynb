{
 "cells": [
  {
   "cell_type": "code",
   "execution_count": 2,
   "id": "fae6dcbe",
   "metadata": {},
   "outputs": [],
   "source": [
    "import pandas as pd\n",
    "import numpy as np\n",
    "import re"
   ]
  },
  {
   "cell_type": "code",
   "execution_count": 3,
   "id": "d093f58c",
   "metadata": {},
   "outputs": [],
   "source": [
    "#Read the criminality data of the FGJ-CDMX\n",
    "data = pd.read_csv('[PATH TO FGJ-CDMX criminality database]', low_memory=False)"
   ]
  },
  {
   "cell_type": "code",
   "execution_count": 4,
   "id": "8ffff4b7",
   "metadata": {},
   "outputs": [
    {
     "data": {
      "text/html": [
       "<div>\n",
       "<style scoped>\n",
       "    .dataframe tbody tr th:only-of-type {\n",
       "        vertical-align: middle;\n",
       "    }\n",
       "\n",
       "    .dataframe tbody tr th {\n",
       "        vertical-align: top;\n",
       "    }\n",
       "\n",
       "    .dataframe thead th {\n",
       "        text-align: right;\n",
       "    }\n",
       "</style>\n",
       "<table border=\"1\" class=\"dataframe\">\n",
       "  <thead>\n",
       "    <tr style=\"text-align: right;\">\n",
       "      <th></th>\n",
       "      <th>ao_hechos</th>\n",
       "      <th>mes_hechos</th>\n",
       "      <th>fecha_hechos</th>\n",
       "      <th>ao_inicio</th>\n",
       "      <th>mes_inicio</th>\n",
       "      <th>fecha_inicio</th>\n",
       "      <th>delito</th>\n",
       "      <th>fiscalia</th>\n",
       "      <th>agencia</th>\n",
       "      <th>unidad_investigacion</th>\n",
       "      <th>categoria_delito</th>\n",
       "      <th>calle_hechos</th>\n",
       "      <th>calle_hechos2</th>\n",
       "      <th>colonia_hechos</th>\n",
       "      <th>alcaldia_hechos</th>\n",
       "      <th>competencia</th>\n",
       "      <th>longitud</th>\n",
       "      <th>latitud</th>\n",
       "      <th>tempo</th>\n",
       "    </tr>\n",
       "  </thead>\n",
       "  <tbody>\n",
       "    <tr>\n",
       "      <th>0</th>\n",
       "      <td>2016.0</td>\n",
       "      <td>Enero</td>\n",
       "      <td>2016-01-31 22:16:00</td>\n",
       "      <td>2016</td>\n",
       "      <td>Febrero</td>\n",
       "      <td>2016-02-01 00:25:44</td>\n",
       "      <td>DAÑO EN PROPIEDAD AJENA INTENCIONAL</td>\n",
       "      <td>INVESTIGACIÓN EN BENITO JUÁREZ</td>\n",
       "      <td>BJ-2</td>\n",
       "      <td>UI-3CD</td>\n",
       "      <td>DELITO DE BAJO IMPACTO</td>\n",
       "      <td>CALZ. DE TLALPAN</td>\n",
       "      <td>LAGO PTE.</td>\n",
       "      <td>AMÉRICAS UNIDAS</td>\n",
       "      <td>BENITO JUAREZ</td>\n",
       "      <td>NaN</td>\n",
       "      <td>-99.140215</td>\n",
       "      <td>19.380315</td>\n",
       "      <td>NaN</td>\n",
       "    </tr>\n",
       "    <tr>\n",
       "      <th>1</th>\n",
       "      <td>2016.0</td>\n",
       "      <td>Enero</td>\n",
       "      <td>2016-01-31 20:50:00</td>\n",
       "      <td>2016</td>\n",
       "      <td>Febrero</td>\n",
       "      <td>2016-02-01 00:52:37</td>\n",
       "      <td>ROBO DE VEHICULO DE SERVICIO PARTICULAR CON VI...</td>\n",
       "      <td>INVESTIGACIÓN PARA LA ATENCIÓN DEL DELITO DE R...</td>\n",
       "      <td>ORIENTEII</td>\n",
       "      <td>UI-3CD</td>\n",
       "      <td>ROBO DE VEHÍCULO CON Y SIN VIOLENCIA</td>\n",
       "      <td>SUR 25 A</td>\n",
       "      <td>GRANJEROS</td>\n",
       "      <td>LOS CIPRESES</td>\n",
       "      <td>IZTAPALAPA</td>\n",
       "      <td>NaN</td>\n",
       "      <td>-99.108403</td>\n",
       "      <td>19.352859</td>\n",
       "      <td>NaN</td>\n",
       "    </tr>\n",
       "    <tr>\n",
       "      <th>2</th>\n",
       "      <td>2016.0</td>\n",
       "      <td>Febrero</td>\n",
       "      <td>2016-02-01 00:30:00</td>\n",
       "      <td>2016</td>\n",
       "      <td>Febrero</td>\n",
       "      <td>2016-02-01 01:33:26</td>\n",
       "      <td>NARCOMENUDEO POSESION SIMPLE</td>\n",
       "      <td>INVESTIGACIÓN PARA LA ATENCIÓN DE NIÑOS, NIÑAS...</td>\n",
       "      <td>57</td>\n",
       "      <td>UI-3CD</td>\n",
       "      <td>DELITO DE BAJO IMPACTO</td>\n",
       "      <td>BATALLONES ROJOS</td>\n",
       "      <td>NaN</td>\n",
       "      <td>UNIDAD VICENTE GUERRERO</td>\n",
       "      <td>IZTAPALAPA</td>\n",
       "      <td>NaN</td>\n",
       "      <td>-99.061321</td>\n",
       "      <td>19.356451</td>\n",
       "      <td>NaN</td>\n",
       "    </tr>\n",
       "    <tr>\n",
       "      <th>3</th>\n",
       "      <td>2016.0</td>\n",
       "      <td>Enero</td>\n",
       "      <td>2016-01-31 22:00:00</td>\n",
       "      <td>2016</td>\n",
       "      <td>Febrero</td>\n",
       "      <td>2016-02-01 02:09:11</td>\n",
       "      <td>ROBO A TRANSEUNTE EN VIA PUBLICA CON VIOLENCIA</td>\n",
       "      <td>INVESTIGACIÓN EN IZTAPALAPA</td>\n",
       "      <td>IZP-6</td>\n",
       "      <td>UI-3CD</td>\n",
       "      <td>ROBO A TRANSEUNTE EN VÍA PÚBLICA CON Y SIN VIO...</td>\n",
       "      <td>GERANIO</td>\n",
       "      <td>GAVILLEROS</td>\n",
       "      <td>EMILIANO ZAPATA</td>\n",
       "      <td>IZTAPALAPA</td>\n",
       "      <td>NaN</td>\n",
       "      <td>-98.976379</td>\n",
       "      <td>19.331633</td>\n",
       "      <td>NaN</td>\n",
       "    </tr>\n",
       "    <tr>\n",
       "      <th>4</th>\n",
       "      <td>2015.0</td>\n",
       "      <td>Diciembre</td>\n",
       "      <td>2015-12-25 12:00:00</td>\n",
       "      <td>2016</td>\n",
       "      <td>Febrero</td>\n",
       "      <td>2016-02-01 02:16:49</td>\n",
       "      <td>DENUNCIA DE HECHOS</td>\n",
       "      <td>INVESTIGACIÓN EN BENITO JUÁREZ</td>\n",
       "      <td>BJ-1</td>\n",
       "      <td>UI-3SD</td>\n",
       "      <td>HECHO NO DELICTIVO</td>\n",
       "      <td>SAN FRANCISCO</td>\n",
       "      <td>AVENIDA COLONIA DEL VALLE</td>\n",
       "      <td>DEL VALLE CENTRO</td>\n",
       "      <td>BENITO JUAREZ</td>\n",
       "      <td>NaN</td>\n",
       "      <td>-99.172189</td>\n",
       "      <td>19.387114</td>\n",
       "      <td>NaN</td>\n",
       "    </tr>\n",
       "  </tbody>\n",
       "</table>\n",
       "</div>"
      ],
      "text/plain": [
       "   ao_hechos mes_hechos         fecha_hechos  ao_inicio mes_inicio  \\\n",
       "0     2016.0      Enero  2016-01-31 22:16:00       2016    Febrero   \n",
       "1     2016.0      Enero  2016-01-31 20:50:00       2016    Febrero   \n",
       "2     2016.0    Febrero  2016-02-01 00:30:00       2016    Febrero   \n",
       "3     2016.0      Enero  2016-01-31 22:00:00       2016    Febrero   \n",
       "4     2015.0  Diciembre  2015-12-25 12:00:00       2016    Febrero   \n",
       "\n",
       "          fecha_inicio                                             delito  \\\n",
       "0  2016-02-01 00:25:44                DAÑO EN PROPIEDAD AJENA INTENCIONAL   \n",
       "1  2016-02-01 00:52:37  ROBO DE VEHICULO DE SERVICIO PARTICULAR CON VI...   \n",
       "2  2016-02-01 01:33:26                       NARCOMENUDEO POSESION SIMPLE   \n",
       "3  2016-02-01 02:09:11     ROBO A TRANSEUNTE EN VIA PUBLICA CON VIOLENCIA   \n",
       "4  2016-02-01 02:16:49                                 DENUNCIA DE HECHOS   \n",
       "\n",
       "                                            fiscalia    agencia  \\\n",
       "0                     INVESTIGACIÓN EN BENITO JUÁREZ       BJ-2   \n",
       "1  INVESTIGACIÓN PARA LA ATENCIÓN DEL DELITO DE R...  ORIENTEII   \n",
       "2  INVESTIGACIÓN PARA LA ATENCIÓN DE NIÑOS, NIÑAS...         57   \n",
       "3                        INVESTIGACIÓN EN IZTAPALAPA      IZP-6   \n",
       "4                     INVESTIGACIÓN EN BENITO JUÁREZ       BJ-1   \n",
       "\n",
       "  unidad_investigacion                                   categoria_delito  \\\n",
       "0               UI-3CD                             DELITO DE BAJO IMPACTO   \n",
       "1               UI-3CD               ROBO DE VEHÍCULO CON Y SIN VIOLENCIA   \n",
       "2               UI-3CD                             DELITO DE BAJO IMPACTO   \n",
       "3               UI-3CD  ROBO A TRANSEUNTE EN VÍA PÚBLICA CON Y SIN VIO...   \n",
       "4               UI-3SD                                 HECHO NO DELICTIVO   \n",
       "\n",
       "       calle_hechos              calle_hechos2           colonia_hechos  \\\n",
       "0  CALZ. DE TLALPAN                  LAGO PTE.          AMÉRICAS UNIDAS   \n",
       "1          SUR 25 A                  GRANJEROS             LOS CIPRESES   \n",
       "2  BATALLONES ROJOS                        NaN  UNIDAD VICENTE GUERRERO   \n",
       "3           GERANIO                 GAVILLEROS          EMILIANO ZAPATA   \n",
       "4     SAN FRANCISCO  AVENIDA COLONIA DEL VALLE         DEL VALLE CENTRO   \n",
       "\n",
       "  alcaldia_hechos competencia   longitud    latitud  tempo  \n",
       "0   BENITO JUAREZ         NaN -99.140215  19.380315    NaN  \n",
       "1      IZTAPALAPA         NaN -99.108403  19.352859    NaN  \n",
       "2      IZTAPALAPA         NaN -99.061321  19.356451    NaN  \n",
       "3      IZTAPALAPA         NaN -98.976379  19.331633    NaN  \n",
       "4   BENITO JUAREZ         NaN -99.172189  19.387114    NaN  "
      ]
     },
     "execution_count": 4,
     "metadata": {},
     "output_type": "execute_result"
    }
   ],
   "source": [
    "data.head()"
   ]
  },
  {
   "cell_type": "code",
   "execution_count": 5,
   "id": "4eeca3ed",
   "metadata": {},
   "outputs": [
    {
     "name": "stdout",
     "output_type": "stream",
     "text": [
      "<class 'pandas.core.frame.DataFrame'>\n",
      "RangeIndex: 1248924 entries, 0 to 1248923\n",
      "Data columns (total 19 columns):\n",
      " #   Column                Non-Null Count    Dtype  \n",
      "---  ------                --------------    -----  \n",
      " 0   ao_hechos             1248489 non-null  float64\n",
      " 1   mes_hechos            1248489 non-null  object \n",
      " 2   fecha_hechos          1248489 non-null  object \n",
      " 3   ao_inicio             1248924 non-null  int64  \n",
      " 4   mes_inicio            1248924 non-null  object \n",
      " 5   fecha_inicio          1248921 non-null  object \n",
      " 6   delito                1248924 non-null  object \n",
      " 7   fiscalia              1248922 non-null  object \n",
      " 8   agencia               1248924 non-null  object \n",
      " 9   unidad_investigacion  1248697 non-null  object \n",
      " 10  categoria_delito      1248924 non-null  object \n",
      " 11  calle_hechos          1245804 non-null  object \n",
      " 12  calle_hechos2         487246 non-null   object \n",
      " 13  colonia_hechos        1197664 non-null  object \n",
      " 14  alcaldia_hechos       1245436 non-null  object \n",
      " 15  competencia           184845 non-null   object \n",
      " 16  longitud              1198622 non-null  float64\n",
      " 17  latitud               1198622 non-null  float64\n",
      " 18  tempo                 0 non-null        float64\n",
      "dtypes: float64(4), int64(1), object(14)\n",
      "memory usage: 181.0+ MB\n"
     ]
    }
   ],
   "source": [
    "data.info()"
   ]
  },
  {
   "cell_type": "code",
   "execution_count": 10,
   "id": "fe49bb3a",
   "metadata": {},
   "outputs": [],
   "source": [
    "#Filter the data of the last 5 years.\n",
    "data_2016_2021 = data[data['ao_hechos']>=2016]"
   ]
  },
  {
   "cell_type": "code",
   "execution_count": 11,
   "id": "918fa752",
   "metadata": {},
   "outputs": [
    {
     "data": {
      "text/plain": [
       "1219711"
      ]
     },
     "execution_count": 11,
     "metadata": {},
     "output_type": "execute_result"
    }
   ],
   "source": [
    "len(data_2016_2021)"
   ]
  },
  {
   "cell_type": "code",
   "execution_count": 12,
   "id": "f4423bd8",
   "metadata": {},
   "outputs": [],
   "source": [
    "#Drop the following columns that are not relevant for this analysis(fiscalia,agencia,\n",
    "#unidad_investigacion,categoria_delito,calle_hechos,calle_hechos_2,colonia_hechos,\n",
    "#alcaldia_hechos, competencia, tempo)\n",
    "\n",
    "data_2016_2021 = data_2016_2021.drop(['fiscalia','agencia','unidad_investigacion',\n",
    "                                      'calle_hechos','calle_hechos2','colonia_hechos','alcaldia_hechos',\n",
    "                                      'competencia','tempo'], axis=1)"
   ]
  },
  {
   "cell_type": "code",
   "execution_count": 13,
   "id": "ea7bb7ae",
   "metadata": {
    "scrolled": true
   },
   "outputs": [
    {
     "data": {
      "text/plain": [
       "ao_hechos               0\n",
       "mes_hechos              0\n",
       "fecha_hechos            0\n",
       "ao_inicio               0\n",
       "mes_inicio              0\n",
       "fecha_inicio            3\n",
       "delito                  0\n",
       "categoria_delito        0\n",
       "longitud            47901\n",
       "latitud             47901\n",
       "dtype: int64"
      ]
     },
     "execution_count": 13,
     "metadata": {},
     "output_type": "execute_result"
    }
   ],
   "source": [
    "data_2016_2021.isnull().sum()"
   ]
  },
  {
   "cell_type": "code",
   "execution_count": 14,
   "id": "82933603",
   "metadata": {},
   "outputs": [
    {
     "data": {
      "text/plain": [
       "0.03835381496392094"
      ]
     },
     "execution_count": 14,
     "metadata": {},
     "output_type": "execute_result"
    }
   ],
   "source": [
    "data_2016_2021.longitud.isnull().sum()/len(data)"
   ]
  },
  {
   "cell_type": "code",
   "execution_count": 15,
   "id": "3f04168d",
   "metadata": {},
   "outputs": [],
   "source": [
    "# Drop rows with null values in the longitud and latitude columns.\n",
    "data_2016_2021 = data_2016_2021.dropna()"
   ]
  },
  {
   "cell_type": "code",
   "execution_count": 16,
   "id": "4c40920d",
   "metadata": {},
   "outputs": [
    {
     "data": {
      "text/plain": [
       "ao_hechos           0\n",
       "mes_hechos          0\n",
       "fecha_hechos        0\n",
       "ao_inicio           0\n",
       "mes_inicio          0\n",
       "fecha_inicio        0\n",
       "delito              0\n",
       "categoria_delito    0\n",
       "longitud            0\n",
       "latitud             0\n",
       "dtype: int64"
      ]
     },
     "execution_count": 16,
     "metadata": {},
     "output_type": "execute_result"
    }
   ],
   "source": [
    "data_2016_2021.isnull().sum()"
   ]
  },
  {
   "cell_type": "code",
   "execution_count": 17,
   "id": "00f8097e",
   "metadata": {},
   "outputs": [],
   "source": [
    "#eliminar delitos cuya categoría sea 'DELITO DE BAJO IMPACTO', el número de registros sea menor a 5 y la \n",
    "#descripcion no contenga la palabra robo.\n",
    "#data_limpia = data_2016_2021.drop([data_2016_2021['delito'].value_counts()<5 and data_2016_2021['categoria_delito']=='DELITO DE BAJO IMPACTO' and data_2016_2021['delito'].contains('ROBO')==False]\n",
    "#                                  ,inplace=True)\n",
    "numero_registros = data_2016_2021['delito'].value_counts()\n",
    "data_2016_2021['num_registros']= data_2016_2021['delito'].apply(lambda x: numero_registros[x])"
   ]
  },
  {
   "cell_type": "code",
   "execution_count": 18,
   "id": "6be22bfd",
   "metadata": {},
   "outputs": [],
   "source": [
    "data_2016_2021['robo'] = data_2016_2021['delito'].apply(lambda x: re.search(r'ROBO',x))"
   ]
  },
  {
   "cell_type": "code",
   "execution_count": 19,
   "id": "2e682498",
   "metadata": {},
   "outputs": [],
   "source": [
    "data_2016_2021 = data_2016_2021.drop(data_2016_2021[(data_2016_2021['robo'].isnull()==True) & \n",
    "                                                    (data_2016_2021['num_registros']<=5) & \n",
    "                                                    (data_2016_2021['categoria_delito']=='DELITO DE BAJO IMPACTO')].index)"
   ]
  },
  {
   "cell_type": "code",
   "execution_count": 42,
   "id": "800ae728",
   "metadata": {},
   "outputs": [],
   "source": [
    "#Seleccionar los delitos de interés para el análisis.\n",
    "delitos = pd.DataFrame(data_2016_2021.delito.value_counts())"
   ]
  },
  {
   "cell_type": "code",
   "execution_count": 27,
   "id": "038b9799",
   "metadata": {},
   "outputs": [],
   "source": [
    "delitos.to_excel('delitos.xlsx')"
   ]
  },
  {
   "cell_type": "code",
   "execution_count": 8,
   "id": "00b02d72",
   "metadata": {},
   "outputs": [],
   "source": [
    "#Data frame con delitos seleccionados manualmente.\n",
    "delitos_seleccionados = pd.read_excel('delitos_seleccionados.xlsx')"
   ]
  },
  {
   "cell_type": "code",
   "execution_count": 9,
   "id": "bfdcab2e",
   "metadata": {},
   "outputs": [
    {
     "data": {
      "text/html": [
       "<div>\n",
       "<style scoped>\n",
       "    .dataframe tbody tr th:only-of-type {\n",
       "        vertical-align: middle;\n",
       "    }\n",
       "\n",
       "    .dataframe tbody tr th {\n",
       "        vertical-align: top;\n",
       "    }\n",
       "\n",
       "    .dataframe thead th {\n",
       "        text-align: right;\n",
       "    }\n",
       "</style>\n",
       "<table border=\"1\" class=\"dataframe\">\n",
       "  <thead>\n",
       "    <tr style=\"text-align: right;\">\n",
       "      <th></th>\n",
       "      <th>Unnamed: 0</th>\n",
       "      <th>0</th>\n",
       "    </tr>\n",
       "  </thead>\n",
       "  <tbody>\n",
       "    <tr>\n",
       "      <th>0</th>\n",
       "      <td>1</td>\n",
       "      <td>ROBO DE VEHICULO DE SERVICIO PARTICULAR CON VI...</td>\n",
       "    </tr>\n",
       "    <tr>\n",
       "      <th>1</th>\n",
       "      <td>3</td>\n",
       "      <td>ROBO A TRANSEUNTE EN VIA PUBLICA CON VIOLENCIA</td>\n",
       "    </tr>\n",
       "    <tr>\n",
       "      <th>2</th>\n",
       "      <td>7</td>\n",
       "      <td>LESIONES INTENCIONALES POR ARMA DE FUEGO</td>\n",
       "    </tr>\n",
       "    <tr>\n",
       "      <th>3</th>\n",
       "      <td>8</td>\n",
       "      <td>LESIONES CULPOSAS</td>\n",
       "    </tr>\n",
       "    <tr>\n",
       "      <th>4</th>\n",
       "      <td>9</td>\n",
       "      <td>ROBO DE VEHICULO DE SERVICIO PARTICULAR SIN VI...</td>\n",
       "    </tr>\n",
       "  </tbody>\n",
       "</table>\n",
       "</div>"
      ],
      "text/plain": [
       "   Unnamed: 0                                                  0\n",
       "0           1  ROBO DE VEHICULO DE SERVICIO PARTICULAR CON VI...\n",
       "1           3     ROBO A TRANSEUNTE EN VIA PUBLICA CON VIOLENCIA\n",
       "2           7           LESIONES INTENCIONALES POR ARMA DE FUEGO\n",
       "3           8                                  LESIONES CULPOSAS\n",
       "4           9  ROBO DE VEHICULO DE SERVICIO PARTICULAR SIN VI..."
      ]
     },
     "execution_count": 9,
     "metadata": {},
     "output_type": "execute_result"
    }
   ],
   "source": [
    "delitos_seleccionados.head()"
   ]
  },
  {
   "cell_type": "code",
   "execution_count": 42,
   "id": "3b9bd7d8",
   "metadata": {},
   "outputs": [],
   "source": [
    "#Filtrar solo las filas que tengan decripción de delito que se encuentre dentro de delitos_seleccionados.\n",
    "data_seleccionada = data_2016_2021[data_2016_2021['delito'].isin(delitos_seleccionados[0])]"
   ]
  },
  {
   "cell_type": "code",
   "execution_count": 22,
   "id": "29a3ad4a",
   "metadata": {},
   "outputs": [
    {
     "name": "stdout",
     "output_type": "stream",
     "text": [
      "<class 'pandas.core.frame.DataFrame'>\n",
      "Int64Index: 652556 entries, 1 to 1248923\n",
      "Data columns (total 12 columns):\n",
      " #   Column            Non-Null Count   Dtype  \n",
      "---  ------            --------------   -----  \n",
      " 0   ao_hechos         652556 non-null  float64\n",
      " 1   mes_hechos        652556 non-null  object \n",
      " 2   fecha_hechos      652556 non-null  object \n",
      " 3   ao_inicio         652556 non-null  int64  \n",
      " 4   mes_inicio        652556 non-null  object \n",
      " 5   fecha_inicio      652556 non-null  object \n",
      " 6   delito            652556 non-null  object \n",
      " 7   categoria_delito  652556 non-null  object \n",
      " 8   longitud          652556 non-null  float64\n",
      " 9   latitud           652556 non-null  float64\n",
      " 10  num_registros     652556 non-null  int64  \n",
      " 11  robo              523854 non-null  object \n",
      "dtypes: float64(3), int64(2), object(7)\n",
      "memory usage: 64.7+ MB\n"
     ]
    }
   ],
   "source": [
    "data_seleccionada.info()"
   ]
  },
  {
   "cell_type": "code",
   "execution_count": 23,
   "id": "e04e0dcb",
   "metadata": {},
   "outputs": [
    {
     "data": {
      "text/html": [
       "<div>\n",
       "<style scoped>\n",
       "    .dataframe tbody tr th:only-of-type {\n",
       "        vertical-align: middle;\n",
       "    }\n",
       "\n",
       "    .dataframe tbody tr th {\n",
       "        vertical-align: top;\n",
       "    }\n",
       "\n",
       "    .dataframe thead th {\n",
       "        text-align: right;\n",
       "    }\n",
       "</style>\n",
       "<table border=\"1\" class=\"dataframe\">\n",
       "  <thead>\n",
       "    <tr style=\"text-align: right;\">\n",
       "      <th></th>\n",
       "      <th>ao_hechos</th>\n",
       "      <th>mes_hechos</th>\n",
       "      <th>fecha_hechos</th>\n",
       "      <th>ao_inicio</th>\n",
       "      <th>mes_inicio</th>\n",
       "      <th>fecha_inicio</th>\n",
       "      <th>delito</th>\n",
       "      <th>categoria_delito</th>\n",
       "      <th>longitud</th>\n",
       "      <th>latitud</th>\n",
       "      <th>num_registros</th>\n",
       "      <th>robo</th>\n",
       "    </tr>\n",
       "  </thead>\n",
       "  <tbody>\n",
       "    <tr>\n",
       "      <th>1</th>\n",
       "      <td>2016.0</td>\n",
       "      <td>Enero</td>\n",
       "      <td>2016-01-31 20:50:00</td>\n",
       "      <td>2016</td>\n",
       "      <td>Febrero</td>\n",
       "      <td>2016-02-01 00:52:37</td>\n",
       "      <td>ROBO DE VEHICULO DE SERVICIO PARTICULAR CON VI...</td>\n",
       "      <td>ROBO DE VEHÍCULO CON Y SIN VIOLENCIA</td>\n",
       "      <td>-99.108403</td>\n",
       "      <td>19.352859</td>\n",
       "      <td>12651</td>\n",
       "      <td>&lt;re.Match object; span=(0, 4), match='ROBO'&gt;</td>\n",
       "    </tr>\n",
       "    <tr>\n",
       "      <th>3</th>\n",
       "      <td>2016.0</td>\n",
       "      <td>Enero</td>\n",
       "      <td>2016-01-31 22:00:00</td>\n",
       "      <td>2016</td>\n",
       "      <td>Febrero</td>\n",
       "      <td>2016-02-01 02:09:11</td>\n",
       "      <td>ROBO A TRANSEUNTE EN VIA PUBLICA CON VIOLENCIA</td>\n",
       "      <td>ROBO A TRANSEUNTE EN VÍA PÚBLICA CON Y SIN VIO...</td>\n",
       "      <td>-98.976379</td>\n",
       "      <td>19.331633</td>\n",
       "      <td>61165</td>\n",
       "      <td>&lt;re.Match object; span=(0, 4), match='ROBO'&gt;</td>\n",
       "    </tr>\n",
       "    <tr>\n",
       "      <th>10</th>\n",
       "      <td>2016.0</td>\n",
       "      <td>Enero</td>\n",
       "      <td>2016-01-31 16:00:00</td>\n",
       "      <td>2016</td>\n",
       "      <td>Febrero</td>\n",
       "      <td>2016-02-01 06:26:19</td>\n",
       "      <td>LESIONES INTENCIONALES POR ARMA DE FUEGO</td>\n",
       "      <td>LESIONES DOLOSAS POR DISPARO DE ARMA DE FUEGO</td>\n",
       "      <td>-99.131745</td>\n",
       "      <td>19.469282</td>\n",
       "      <td>4339</td>\n",
       "      <td>None</td>\n",
       "    </tr>\n",
       "    <tr>\n",
       "      <th>12</th>\n",
       "      <td>2016.0</td>\n",
       "      <td>Febrero</td>\n",
       "      <td>2016-02-01 06:40:00</td>\n",
       "      <td>2016</td>\n",
       "      <td>Febrero</td>\n",
       "      <td>2016-02-01 07:25:58</td>\n",
       "      <td>LESIONES CULPOSAS</td>\n",
       "      <td>DELITO DE BAJO IMPACTO</td>\n",
       "      <td>-99.172158</td>\n",
       "      <td>19.443426</td>\n",
       "      <td>2373</td>\n",
       "      <td>None</td>\n",
       "    </tr>\n",
       "    <tr>\n",
       "      <th>13</th>\n",
       "      <td>2016.0</td>\n",
       "      <td>Enero</td>\n",
       "      <td>2016-01-31 07:00:00</td>\n",
       "      <td>2016</td>\n",
       "      <td>Febrero</td>\n",
       "      <td>2016-02-01 07:27:01</td>\n",
       "      <td>ROBO DE VEHICULO DE SERVICIO PARTICULAR SIN VI...</td>\n",
       "      <td>ROBO DE VEHÍCULO CON Y SIN VIOLENCIA</td>\n",
       "      <td>-99.226325</td>\n",
       "      <td>19.300162</td>\n",
       "      <td>31249</td>\n",
       "      <td>&lt;re.Match object; span=(0, 4), match='ROBO'&gt;</td>\n",
       "    </tr>\n",
       "  </tbody>\n",
       "</table>\n",
       "</div>"
      ],
      "text/plain": [
       "    ao_hechos mes_hechos         fecha_hechos  ao_inicio mes_inicio  \\\n",
       "1      2016.0      Enero  2016-01-31 20:50:00       2016    Febrero   \n",
       "3      2016.0      Enero  2016-01-31 22:00:00       2016    Febrero   \n",
       "10     2016.0      Enero  2016-01-31 16:00:00       2016    Febrero   \n",
       "12     2016.0    Febrero  2016-02-01 06:40:00       2016    Febrero   \n",
       "13     2016.0      Enero  2016-01-31 07:00:00       2016    Febrero   \n",
       "\n",
       "           fecha_inicio                                             delito  \\\n",
       "1   2016-02-01 00:52:37  ROBO DE VEHICULO DE SERVICIO PARTICULAR CON VI...   \n",
       "3   2016-02-01 02:09:11     ROBO A TRANSEUNTE EN VIA PUBLICA CON VIOLENCIA   \n",
       "10  2016-02-01 06:26:19           LESIONES INTENCIONALES POR ARMA DE FUEGO   \n",
       "12  2016-02-01 07:25:58                                  LESIONES CULPOSAS   \n",
       "13  2016-02-01 07:27:01  ROBO DE VEHICULO DE SERVICIO PARTICULAR SIN VI...   \n",
       "\n",
       "                                     categoria_delito   longitud    latitud  \\\n",
       "1                ROBO DE VEHÍCULO CON Y SIN VIOLENCIA -99.108403  19.352859   \n",
       "3   ROBO A TRANSEUNTE EN VÍA PÚBLICA CON Y SIN VIO... -98.976379  19.331633   \n",
       "10      LESIONES DOLOSAS POR DISPARO DE ARMA DE FUEGO -99.131745  19.469282   \n",
       "12                             DELITO DE BAJO IMPACTO -99.172158  19.443426   \n",
       "13               ROBO DE VEHÍCULO CON Y SIN VIOLENCIA -99.226325  19.300162   \n",
       "\n",
       "    num_registros                                          robo  \n",
       "1           12651  <re.Match object; span=(0, 4), match='ROBO'>  \n",
       "3           61165  <re.Match object; span=(0, 4), match='ROBO'>  \n",
       "10           4339                                          None  \n",
       "12           2373                                          None  \n",
       "13          31249  <re.Match object; span=(0, 4), match='ROBO'>  "
      ]
     },
     "execution_count": 23,
     "metadata": {},
     "output_type": "execute_result"
    }
   ],
   "source": [
    "data_seleccionada.head()"
   ]
  },
  {
   "cell_type": "code",
   "execution_count": 43,
   "id": "bcb14850",
   "metadata": {
    "scrolled": true
   },
   "outputs": [],
   "source": [
    "#Eliminar columnas no necesarias para el análisis.\n",
    "data_limpia = data_seleccionada.drop(data_seleccionada[['num_registros','robo','ao_inicio','mes_inicio','fecha_inicio','categoria_delito','ao_hechos','mes_hechos']], axis=1)"
   ]
  },
  {
   "cell_type": "code",
   "execution_count": 44,
   "id": "395b746b",
   "metadata": {},
   "outputs": [
    {
     "data": {
      "text/html": [
       "<div>\n",
       "<style scoped>\n",
       "    .dataframe tbody tr th:only-of-type {\n",
       "        vertical-align: middle;\n",
       "    }\n",
       "\n",
       "    .dataframe tbody tr th {\n",
       "        vertical-align: top;\n",
       "    }\n",
       "\n",
       "    .dataframe thead th {\n",
       "        text-align: right;\n",
       "    }\n",
       "</style>\n",
       "<table border=\"1\" class=\"dataframe\">\n",
       "  <thead>\n",
       "    <tr style=\"text-align: right;\">\n",
       "      <th></th>\n",
       "      <th>fecha_hechos</th>\n",
       "      <th>delito</th>\n",
       "      <th>longitud</th>\n",
       "      <th>latitud</th>\n",
       "    </tr>\n",
       "  </thead>\n",
       "  <tbody>\n",
       "    <tr>\n",
       "      <th>1</th>\n",
       "      <td>2016-01-31 20:50:00</td>\n",
       "      <td>ROBO DE VEHICULO DE SERVICIO PARTICULAR CON VI...</td>\n",
       "      <td>-99.108403</td>\n",
       "      <td>19.352859</td>\n",
       "    </tr>\n",
       "    <tr>\n",
       "      <th>3</th>\n",
       "      <td>2016-01-31 22:00:00</td>\n",
       "      <td>ROBO A TRANSEUNTE EN VIA PUBLICA CON VIOLENCIA</td>\n",
       "      <td>-98.976379</td>\n",
       "      <td>19.331633</td>\n",
       "    </tr>\n",
       "    <tr>\n",
       "      <th>10</th>\n",
       "      <td>2016-01-31 16:00:00</td>\n",
       "      <td>LESIONES INTENCIONALES POR ARMA DE FUEGO</td>\n",
       "      <td>-99.131745</td>\n",
       "      <td>19.469282</td>\n",
       "    </tr>\n",
       "    <tr>\n",
       "      <th>12</th>\n",
       "      <td>2016-02-01 06:40:00</td>\n",
       "      <td>LESIONES CULPOSAS</td>\n",
       "      <td>-99.172158</td>\n",
       "      <td>19.443426</td>\n",
       "    </tr>\n",
       "    <tr>\n",
       "      <th>13</th>\n",
       "      <td>2016-01-31 07:00:00</td>\n",
       "      <td>ROBO DE VEHICULO DE SERVICIO PARTICULAR SIN VI...</td>\n",
       "      <td>-99.226325</td>\n",
       "      <td>19.300162</td>\n",
       "    </tr>\n",
       "  </tbody>\n",
       "</table>\n",
       "</div>"
      ],
      "text/plain": [
       "           fecha_hechos                                             delito  \\\n",
       "1   2016-01-31 20:50:00  ROBO DE VEHICULO DE SERVICIO PARTICULAR CON VI...   \n",
       "3   2016-01-31 22:00:00     ROBO A TRANSEUNTE EN VIA PUBLICA CON VIOLENCIA   \n",
       "10  2016-01-31 16:00:00           LESIONES INTENCIONALES POR ARMA DE FUEGO   \n",
       "12  2016-02-01 06:40:00                                  LESIONES CULPOSAS   \n",
       "13  2016-01-31 07:00:00  ROBO DE VEHICULO DE SERVICIO PARTICULAR SIN VI...   \n",
       "\n",
       "     longitud    latitud  \n",
       "1  -99.108403  19.352859  \n",
       "3  -98.976379  19.331633  \n",
       "10 -99.131745  19.469282  \n",
       "12 -99.172158  19.443426  \n",
       "13 -99.226325  19.300162  "
      ]
     },
     "execution_count": 44,
     "metadata": {},
     "output_type": "execute_result"
    }
   ],
   "source": [
    "data_limpia.head()"
   ]
  },
  {
   "cell_type": "code",
   "execution_count": 46,
   "id": "46b55549",
   "metadata": {},
   "outputs": [],
   "source": [
    "#Convertir fecha a formato datetime\n",
    "data_limpia['fecha_hechos'] = pd.to_datetime(data_limpia['fecha_hechos'])"
   ]
  },
  {
   "cell_type": "code",
   "execution_count": 47,
   "id": "f3d924db",
   "metadata": {},
   "outputs": [
    {
     "data": {
      "text/html": [
       "<div>\n",
       "<style scoped>\n",
       "    .dataframe tbody tr th:only-of-type {\n",
       "        vertical-align: middle;\n",
       "    }\n",
       "\n",
       "    .dataframe tbody tr th {\n",
       "        vertical-align: top;\n",
       "    }\n",
       "\n",
       "    .dataframe thead th {\n",
       "        text-align: right;\n",
       "    }\n",
       "</style>\n",
       "<table border=\"1\" class=\"dataframe\">\n",
       "  <thead>\n",
       "    <tr style=\"text-align: right;\">\n",
       "      <th></th>\n",
       "      <th>fecha_hechos</th>\n",
       "      <th>delito</th>\n",
       "      <th>longitud</th>\n",
       "      <th>latitud</th>\n",
       "    </tr>\n",
       "  </thead>\n",
       "  <tbody>\n",
       "    <tr>\n",
       "      <th>1</th>\n",
       "      <td>2016-01-31 20:50:00</td>\n",
       "      <td>ROBO DE VEHICULO DE SERVICIO PARTICULAR CON VI...</td>\n",
       "      <td>-99.108403</td>\n",
       "      <td>19.352859</td>\n",
       "    </tr>\n",
       "    <tr>\n",
       "      <th>3</th>\n",
       "      <td>2016-01-31 22:00:00</td>\n",
       "      <td>ROBO A TRANSEUNTE EN VIA PUBLICA CON VIOLENCIA</td>\n",
       "      <td>-98.976379</td>\n",
       "      <td>19.331633</td>\n",
       "    </tr>\n",
       "    <tr>\n",
       "      <th>10</th>\n",
       "      <td>2016-01-31 16:00:00</td>\n",
       "      <td>LESIONES INTENCIONALES POR ARMA DE FUEGO</td>\n",
       "      <td>-99.131745</td>\n",
       "      <td>19.469282</td>\n",
       "    </tr>\n",
       "    <tr>\n",
       "      <th>12</th>\n",
       "      <td>2016-02-01 06:40:00</td>\n",
       "      <td>LESIONES CULPOSAS</td>\n",
       "      <td>-99.172158</td>\n",
       "      <td>19.443426</td>\n",
       "    </tr>\n",
       "    <tr>\n",
       "      <th>13</th>\n",
       "      <td>2016-01-31 07:00:00</td>\n",
       "      <td>ROBO DE VEHICULO DE SERVICIO PARTICULAR SIN VI...</td>\n",
       "      <td>-99.226325</td>\n",
       "      <td>19.300162</td>\n",
       "    </tr>\n",
       "  </tbody>\n",
       "</table>\n",
       "</div>"
      ],
      "text/plain": [
       "          fecha_hechos                                             delito  \\\n",
       "1  2016-01-31 20:50:00  ROBO DE VEHICULO DE SERVICIO PARTICULAR CON VI...   \n",
       "3  2016-01-31 22:00:00     ROBO A TRANSEUNTE EN VIA PUBLICA CON VIOLENCIA   \n",
       "10 2016-01-31 16:00:00           LESIONES INTENCIONALES POR ARMA DE FUEGO   \n",
       "12 2016-02-01 06:40:00                                  LESIONES CULPOSAS   \n",
       "13 2016-01-31 07:00:00  ROBO DE VEHICULO DE SERVICIO PARTICULAR SIN VI...   \n",
       "\n",
       "     longitud    latitud  \n",
       "1  -99.108403  19.352859  \n",
       "3  -98.976379  19.331633  \n",
       "10 -99.131745  19.469282  \n",
       "12 -99.172158  19.443426  \n",
       "13 -99.226325  19.300162  "
      ]
     },
     "execution_count": 47,
     "metadata": {},
     "output_type": "execute_result"
    }
   ],
   "source": [
    "data_limpia.head()"
   ]
  },
  {
   "cell_type": "code",
   "execution_count": 48,
   "id": "eabbfd6c",
   "metadata": {},
   "outputs": [
    {
     "name": "stdout",
     "output_type": "stream",
     "text": [
      "<class 'pandas.core.frame.DataFrame'>\n",
      "Int64Index: 652556 entries, 1 to 1248923\n",
      "Data columns (total 4 columns):\n",
      " #   Column        Non-Null Count   Dtype         \n",
      "---  ------        --------------   -----         \n",
      " 0   fecha_hechos  652556 non-null  datetime64[ns]\n",
      " 1   delito        652556 non-null  object        \n",
      " 2   longitud      652556 non-null  float64       \n",
      " 3   latitud       652556 non-null  float64       \n",
      "dtypes: datetime64[ns](1), float64(2), object(1)\n",
      "memory usage: 24.9+ MB\n"
     ]
    }
   ],
   "source": [
    "data_limpia.info()"
   ]
  },
  {
   "cell_type": "code",
   "execution_count": 49,
   "id": "849d9a13",
   "metadata": {},
   "outputs": [],
   "source": [
    "data_limpia.to_csv('data_limpia.csv')"
   ]
  }
 ],
 "metadata": {
  "kernelspec": {
   "display_name": "Python 3",
   "language": "python",
   "name": "python3"
  },
  "language_info": {
   "codemirror_mode": {
    "name": "ipython",
    "version": 3
   },
   "file_extension": ".py",
   "mimetype": "text/x-python",
   "name": "python",
   "nbconvert_exporter": "python",
   "pygments_lexer": "ipython3",
   "version": "3.9.5"
  }
 },
 "nbformat": 4,
 "nbformat_minor": 5
}
